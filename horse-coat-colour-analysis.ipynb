{
 "cells": [
  {
   "cell_type": "code",
   "execution_count": 1,
   "id": "1d1c2a85",
   "metadata": {
    "execution": {
     "iopub.execute_input": "2023-01-10T18:36:34.958245Z",
     "iopub.status.busy": "2023-01-10T18:36:34.957814Z",
     "iopub.status.idle": "2023-01-10T18:36:35.953178Z",
     "shell.execute_reply": "2023-01-10T18:36:35.951706Z"
    },
    "papermill": {
     "duration": 1.003209,
     "end_time": "2023-01-10T18:36:35.955780",
     "exception": false,
     "start_time": "2023-01-10T18:36:34.952571",
     "status": "completed"
    },
    "tags": []
   },
   "outputs": [],
   "source": [
    "# Libraries\n",
    "import pandas as pd\n",
    "import seaborn as sns\n",
    "import matplotlib.pyplot as plt"
   ]
  },
  {
   "cell_type": "code",
   "execution_count": 2,
   "id": "1c8654e9",
   "metadata": {
    "execution": {
     "iopub.execute_input": "2023-01-10T18:36:35.962159Z",
     "iopub.status.busy": "2023-01-10T18:36:35.961760Z",
     "iopub.status.idle": "2023-01-10T18:36:41.726492Z",
     "shell.execute_reply": "2023-01-10T18:36:41.723579Z"
    },
    "papermill": {
     "duration": 5.770861,
     "end_time": "2023-01-10T18:36:41.729185",
     "exception": false,
     "start_time": "2023-01-10T18:36:35.958324",
     "status": "completed"
    },
    "tags": []
   },
   "outputs": [
    {
     "name": "stderr",
     "output_type": "stream",
     "text": [
      "/opt/conda/lib/python3.7/site-packages/IPython/core/interactiveshell.py:3552: DtypeWarning: Columns (25,26,32,33,38,51,52,53,54,56,57,58,59,61,62) have mixed types.Specify dtype option on import or set low_memory=False.\n",
      "  exec(code_obj, self.user_global_ns, self.user_ns)\n"
     ]
    }
   ],
   "source": [
    "# Dataset source\n",
    "# https://www.kaggle.com/datasets/donw385/horses\n",
    "df = pd.read_csv(\"/kaggle/input/horses/horses 2.csv\")"
   ]
  },
  {
   "cell_type": "code",
   "execution_count": 3,
   "id": "8f24c884",
   "metadata": {
    "execution": {
     "iopub.execute_input": "2023-01-10T18:36:41.735296Z",
     "iopub.status.busy": "2023-01-10T18:36:41.734898Z",
     "iopub.status.idle": "2023-01-10T18:36:41.741240Z",
     "shell.execute_reply": "2023-01-10T18:36:41.740115Z"
    },
    "papermill": {
     "duration": 0.011541,
     "end_time": "2023-01-10T18:36:41.743145",
     "exception": false,
     "start_time": "2023-01-10T18:36:41.731604",
     "status": "completed"
    },
    "tags": []
   },
   "outputs": [
    {
     "name": "stdout",
     "output_type": "stream",
     "text": [
      "previous_margin\n",
      "position\n",
      "position_again\n",
      "position_two\n",
      "margin\n",
      "bf_odds\n",
      "bf_odds_two_mins_out\n",
      "bf_odds_all\n",
      "vic_tote\n",
      "vic_tote_two_mins_out\n",
      "vic_tote_all\n",
      "nsw_tote\n",
      "nsw_tote_two_mins_out\n",
      "nsw_tote_all\n",
      "nsw_odds\n",
      "betfair_slope\n",
      "vic_tote_slope\n",
      "nsw_tote_slope\n",
      "nsw_odds_slope\n",
      "country_code\n",
      "venue_name\n",
      "market_id\n",
      "date\n",
      "market_name\n",
      "race_number\n",
      "condition\n",
      "weather\n",
      "runner_id\n",
      "number\n",
      "name\n",
      "runner_name_uuid\n",
      "barrier\n",
      "blinkers\n",
      "emergency\n",
      "dfs_form_rating\n",
      "tech_form_rating\n",
      "total_rating_points\n",
      "handicap_weight\n",
      "last_five_starts\n",
      "penalty\n",
      "favourite_odds_win\n",
      "favourite_tote_win\n",
      "tip_pundit_win\n",
      "tip_rating_win\n",
      "tip_12_months_win\n",
      "tip_recent_win\n",
      "tip_distance_win\n",
      "tip_class_win\n",
      "tip_time_win\n",
      "tip_overall_win\n",
      "prize_money\n",
      "sex\n",
      "sire\n",
      "dam\n",
      "colour\n",
      "age\n",
      "jockey\n",
      "jockey_sex\n",
      "trainer\n",
      "form_comment\n",
      "form_comment_sentiment\n",
      "last_twenty_starts\n",
      "class_level\n",
      "field_strength\n",
      "days_since_last_run\n",
      "runs_since_spell\n",
      "overall_starts\n",
      "overall_wins\n",
      "overall_places\n",
      "track_starts\n",
      "track_wins\n",
      "track_places\n",
      "firm_starts\n",
      "firm_wins\n",
      "firm_places\n",
      "good_starts\n",
      "good_wins\n",
      "good_places\n",
      "dead_starts\n",
      "dead_wins\n",
      "dead_places\n",
      "slow_starts\n",
      "slow_wins\n",
      "slow_places\n",
      "soft_starts\n",
      "soft_wins\n",
      "soft_places\n",
      "heavy_starts\n",
      "heavy_wins\n",
      "heavy_places\n",
      "distance_starts\n",
      "distance_wins\n",
      "distance_places\n",
      "class_same_starts\n",
      "class_same_wins\n",
      "class_same_places\n",
      "class_stronger_starts\n",
      "class_stronger_wins\n",
      "class_stronger_places\n",
      "first_up_starts\n",
      "first_up_wins\n",
      "first_up_places\n",
      "second_up_starts\n",
      "second_up_wins\n",
      "second_up_places\n",
      "track_distance_starts\n",
      "track_distance_wins\n",
      "track_distance_places\n"
     ]
    }
   ],
   "source": [
    "# Columns\n",
    "for col in df.columns:\n",
    "    print(col)"
   ]
  },
  {
   "cell_type": "code",
   "execution_count": 4,
   "id": "83b7588c",
   "metadata": {
    "execution": {
     "iopub.execute_input": "2023-01-10T18:36:41.750077Z",
     "iopub.status.busy": "2023-01-10T18:36:41.749407Z",
     "iopub.status.idle": "2023-01-10T18:36:42.948867Z",
     "shell.execute_reply": "2023-01-10T18:36:42.948159Z"
    },
    "papermill": {
     "duration": 1.205696,
     "end_time": "2023-01-10T18:36:42.951254",
     "exception": false,
     "start_time": "2023-01-10T18:36:41.745558",
     "status": "completed"
    },
    "tags": []
   },
   "outputs": [
    {
     "name": "stdout",
     "output_type": "stream",
     "text": [
      "Unique column - runner_id\n"
     ]
    }
   ],
   "source": [
    "# Finding dataset main key - runner_id\n",
    "for column in df.columns:\n",
    "    if df[column].nunique() == df[column].count():\n",
    "        print(f'Unique column - {column}')"
   ]
  },
  {
   "cell_type": "code",
   "execution_count": 5,
   "id": "8a271f17",
   "metadata": {
    "execution": {
     "iopub.execute_input": "2023-01-10T18:36:42.958727Z",
     "iopub.status.busy": "2023-01-10T18:36:42.958130Z",
     "iopub.status.idle": "2023-01-10T18:36:42.982832Z",
     "shell.execute_reply": "2023-01-10T18:36:42.981504Z"
    },
    "papermill": {
     "duration": 0.031027,
     "end_time": "2023-01-10T18:36:42.985071",
     "exception": false,
     "start_time": "2023-01-10T18:36:42.954044",
     "status": "completed"
    },
    "tags": []
   },
   "outputs": [
    {
     "data": {
      "text/plain": [
       "count    214148.000000\n",
       "mean          2.083064\n",
       "std           2.449549\n",
       "min           0.000000\n",
       "25%           0.000000\n",
       "50%           1.000000\n",
       "75%           3.000000\n",
       "max          36.000000\n",
       "Name: overall_wins, dtype: float64"
      ]
     },
     "execution_count": 5,
     "metadata": {},
     "output_type": "execute_result"
    }
   ],
   "source": [
    "df['overall_wins'].describe()"
   ]
  },
  {
   "cell_type": "code",
   "execution_count": 6,
   "id": "aafc465d",
   "metadata": {
    "execution": {
     "iopub.execute_input": "2023-01-10T18:36:42.992382Z",
     "iopub.status.busy": "2023-01-10T18:36:42.991986Z",
     "iopub.status.idle": "2023-01-10T18:36:43.606239Z",
     "shell.execute_reply": "2023-01-10T18:36:43.605443Z"
    },
    "papermill": {
     "duration": 0.620252,
     "end_time": "2023-01-10T18:36:43.608240",
     "exception": false,
     "start_time": "2023-01-10T18:36:42.987988",
     "status": "completed"
    },
    "tags": []
   },
   "outputs": [
    {
     "name": "stdout",
     "output_type": "stream",
     "text": [
      "GR/BR\n",
      "BL\n",
      "GR/B\n",
      "GR/CH\n",
      "GR/BL\n",
      "WH\n"
     ]
    },
    {
     "data": {
      "image/png": "[encoded data removed]",
      "text/plain": [
       "<Figure size 720x720 with 1 Axes>"
      ]
     },
     "metadata": {},
     "output_type": "display_data"
    }
   ],
   "source": [
    "labels = list(df['colour'].value_counts().index)\n",
    "\n",
    "# When the number of wins is less than 1% the number is not displayed on the plot\n",
    "for i in range(len(labels)):\n",
    "    total = int(len(df))\n",
    "    count = int(len(df.loc[df['colour']==labels[i]]))\n",
    "    percentage = int(count / total * 100)\n",
    "    if percentage < 1:\n",
    "        print(labels[i])\n",
    "        labels[i] = ''\n",
    "\n",
    "# When the number of wins is less than 1% the label is not not displayed on the plot\n",
    "def my_fmt(x):\n",
    "    if x > 1: return '{:.1f}%'.format(x)\n",
    "    else: return \"\"\n",
    "\n",
    "colors = sns.color_palette('pastel')[0:5]\n",
    "fig, ax = plt.subplots(figsize=(10,10))\n",
    "plt.pie(df['colour'].value_counts().values, colors = colors, labels=labels, autopct=my_fmt , pctdistance=0.8, labeldistance=1.1)\n",
    "plt.setp(ax.get_xticklabels(), rotation=30, horizontalalignment='right', fontsize='x-small')\n",
    "plt.show()"
   ]
  },
  {
   "cell_type": "code",
   "execution_count": 7,
   "id": "d0c59362",
   "metadata": {
    "execution": {
     "iopub.execute_input": "2023-01-10T18:36:43.618829Z",
     "iopub.status.busy": "2023-01-10T18:36:43.618138Z",
     "iopub.status.idle": "2023-01-10T18:36:43.960028Z",
     "shell.execute_reply": "2023-01-10T18:36:43.959213Z"
    },
    "papermill": {
     "duration": 0.349389,
     "end_time": "2023-01-10T18:36:43.961987",
     "exception": false,
     "start_time": "2023-01-10T18:36:43.612598",
     "status": "completed"
    },
    "tags": []
   },
   "outputs": [
    {
     "name": "stderr",
     "output_type": "stream",
     "text": [
      "/opt/conda/lib/python3.7/site-packages/ipykernel_launcher.py:10: SettingWithCopyWarning: \n",
      "A value is trying to be set on a copy of a slice from a DataFrame\n",
      "\n",
      "See the caveats in the documentation: https://pandas.pydata.org/pandas-docs/stable/user_guide/indexing.html#returning-a-view-versus-a-copy\n",
      "  # Remove the CWD from sys.path while we load stuff.\n"
     ]
    },
    {
     "data": {
      "image/png": "[encoded data removed]",
      "text/plain": [
       "<Figure size 720x720 with 1 Axes>"
      ]
     },
     "metadata": {},
     "output_type": "display_data"
    }
   ],
   "source": [
    "sumdf = df.groupby(\"colour\", as_index = False).sum()\n",
    "labels = sumdf['colour']\n",
    "total = sumdf['overall_wins'].sum()\n",
    "\n",
    "# When the number of wins is less than 1% the number is not displayed on the plot\n",
    "for i in range(len(labels)):\n",
    "    count = (sumdf.loc[sumdf['colour'] == labels[i]])['overall_wins']\n",
    "    percentage = int(count / total * 100)\n",
    "    if percentage < 1:\n",
    "        labels[i] = ''\n",
    "\n",
    "# When the number of wins is less than 1% the label is not not displayed on the plot\n",
    "def my_fmt(x):\n",
    "    if x > 1: return '{:.1f}%'.format(x)\n",
    "    else: return \"\"\n",
    "\n",
    "colors = sns.color_palette('pastel')[0:5]\n",
    "fig, ax = plt.subplots(figsize=(10,10))\n",
    "plt.pie(sumdf['overall_wins'], colors = colors, labels=labels, autopct=my_fmt , pctdistance=0.8, labeldistance=1.1)\n",
    "plt.setp(ax.get_xticklabels(), rotation=30, horizontalalignment='right', fontsize='x-small')\n",
    "plt.show()"
   ]
  },
  {
   "cell_type": "code",
   "execution_count": 8,
   "id": "2fb30953",
   "metadata": {
    "execution": {
     "iopub.execute_input": "2023-01-10T18:36:43.974335Z",
     "iopub.status.busy": "2023-01-10T18:36:43.973738Z",
     "iopub.status.idle": "2023-01-10T18:36:43.977507Z",
     "shell.execute_reply": "2023-01-10T18:36:43.976653Z"
    },
    "papermill": {
     "duration": 0.013337,
     "end_time": "2023-01-10T18:36:43.980476",
     "exception": false,
     "start_time": "2023-01-10T18:36:43.967139",
     "status": "completed"
    },
    "tags": []
   },
   "outputs": [],
   "source": [
    "# No correlation between coat colour and number of wins observed"
   ]
  }
 ],
 "metadata": {
  "kernelspec": {
   "display_name": "Python 3",
   "language": "python",
   "name": "python3"
  },
  "language_info": {
   "codemirror_mode": {
    "name": "ipython",
    "version": 3
   },
   "file_extension": ".py",
   "mimetype": "text/x-python",
   "name": "python",
   "nbconvert_exporter": "python",
   "pygments_lexer": "ipython3",
   "version": "3.7.12"
  },
  "papermill": {
   "default_parameters": {},
   "duration": 18.98013,
   "end_time": "2023-01-10T18:36:44.808503",
   "environment_variables": {},
   "exception": null,
   "input_path": "__notebook__.ipynb",
   "output_path": "__notebook__.ipynb",
   "parameters": {},
   "start_time": "2023-01-10T18:36:25.828373",
   "version": "2.3.4"
  }
 },
 "nbformat": 4,
 "nbformat_minor": 5
}
