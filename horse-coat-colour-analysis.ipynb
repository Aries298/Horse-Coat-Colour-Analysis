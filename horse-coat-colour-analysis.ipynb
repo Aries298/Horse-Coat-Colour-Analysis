{
 "cells": [
  {
   "cell_type": "code",
   "execution_count": 1,
   "id": "1b7bee83",
   "metadata": {
    "execution": {
     "iopub.execute_input": "2023-01-09T15:29:51.943830Z",
     "iopub.status.busy": "2023-01-09T15:29:51.943345Z",
     "iopub.status.idle": "2023-01-09T15:29:52.904613Z",
     "shell.execute_reply": "2023-01-09T15:29:52.903527Z"
    },
    "papermill": {
     "duration": 0.970054,
     "end_time": "2023-01-09T15:29:52.907582",
     "exception": false,
     "start_time": "2023-01-09T15:29:51.937528",
     "status": "completed"
    },
    "tags": []
   },
   "outputs": [],
   "source": [
    "# Libraries\n",
    "import pandas as pd\n",
    "import seaborn as sns\n",
    "import matplotlib.pyplot as plt\n"
   ]
  },
  {
   "cell_type": "code",
   "execution_count": 2,
   "id": "e40349f3",
   "metadata": {
    "execution": {
     "iopub.execute_input": "2023-01-09T15:29:52.915026Z",
     "iopub.status.busy": "2023-01-09T15:29:52.914671Z",
     "iopub.status.idle": "2023-01-09T15:29:59.907806Z",
     "shell.execute_reply": "2023-01-09T15:29:59.906278Z"
    },
    "papermill": {
     "duration": 6.999728,
     "end_time": "2023-01-09T15:29:59.910439",
     "exception": false,
     "start_time": "2023-01-09T15:29:52.910711",
     "status": "completed"
    },
    "tags": []
   },
   "outputs": [
    {
     "name": "stderr",
     "output_type": "stream",
     "text": [
      "/opt/conda/lib/python3.7/site-packages/IPython/core/interactiveshell.py:3552: DtypeWarning: Columns (25,26,32,33,38,51,52,53,54,56,57,58,59,61,62) have mixed types.Specify dtype option on import or set low_memory=False.\n",
      "  exec(code_obj, self.user_global_ns, self.user_ns)\n"
     ]
    }
   ],
   "source": [
    "# Dataset source\n",
    "# https://www.kaggle.com/datasets/donw385/horses\n",
    "df = pd.read_csv(\"/kaggle/input/horses/horses 2.csv\")"
   ]
  },
  {
   "cell_type": "code",
   "execution_count": 3,
   "id": "36f572eb",
   "metadata": {
    "execution": {
     "iopub.execute_input": "2023-01-09T15:29:59.918361Z",
     "iopub.status.busy": "2023-01-09T15:29:59.917290Z",
     "iopub.status.idle": "2023-01-09T15:29:59.923313Z",
     "shell.execute_reply": "2023-01-09T15:29:59.922338Z"
    },
    "papermill": {
     "duration": 0.012591,
     "end_time": "2023-01-09T15:29:59.926106",
     "exception": false,
     "start_time": "2023-01-09T15:29:59.913515",
     "status": "completed"
    },
    "tags": []
   },
   "outputs": [
    {
     "name": "stdout",
     "output_type": "stream",
     "text": [
      "previous_margin\n",
      "position\n",
      "position_again\n",
      "position_two\n",
      "margin\n",
      "bf_odds\n",
      "bf_odds_two_mins_out\n",
      "bf_odds_all\n",
      "vic_tote\n",
      "vic_tote_two_mins_out\n",
      "vic_tote_all\n",
      "nsw_tote\n",
      "nsw_tote_two_mins_out\n",
      "nsw_tote_all\n",
      "nsw_odds\n",
      "betfair_slope\n",
      "vic_tote_slope\n",
      "nsw_tote_slope\n",
      "nsw_odds_slope\n",
      "country_code\n",
      "venue_name\n",
      "market_id\n",
      "date\n",
      "market_name\n",
      "race_number\n",
      "condition\n",
      "weather\n",
      "runner_id\n",
      "number\n",
      "name\n",
      "runner_name_uuid\n",
      "barrier\n",
      "blinkers\n",
      "emergency\n",
      "dfs_form_rating\n",
      "tech_form_rating\n",
      "total_rating_points\n",
      "handicap_weight\n",
      "last_five_starts\n",
      "penalty\n",
      "favourite_odds_win\n",
      "favourite_tote_win\n",
      "tip_pundit_win\n",
      "tip_rating_win\n",
      "tip_12_months_win\n",
      "tip_recent_win\n",
      "tip_distance_win\n",
      "tip_class_win\n",
      "tip_time_win\n",
      "tip_overall_win\n",
      "prize_money\n",
      "sex\n",
      "sire\n",
      "dam\n",
      "colour\n",
      "age\n",
      "jockey\n",
      "jockey_sex\n",
      "trainer\n",
      "form_comment\n",
      "form_comment_sentiment\n",
      "last_twenty_starts\n",
      "class_level\n",
      "field_strength\n",
      "days_since_last_run\n",
      "runs_since_spell\n",
      "overall_starts\n",
      "overall_wins\n",
      "overall_places\n",
      "track_starts\n",
      "track_wins\n",
      "track_places\n",
      "firm_starts\n",
      "firm_wins\n",
      "firm_places\n",
      "good_starts\n",
      "good_wins\n",
      "good_places\n",
      "dead_starts\n",
      "dead_wins\n",
      "dead_places\n",
      "slow_starts\n",
      "slow_wins\n",
      "slow_places\n",
      "soft_starts\n",
      "soft_wins\n",
      "soft_places\n",
      "heavy_starts\n",
      "heavy_wins\n",
      "heavy_places\n",
      "distance_starts\n",
      "distance_wins\n",
      "distance_places\n",
      "class_same_starts\n",
      "class_same_wins\n",
      "class_same_places\n",
      "class_stronger_starts\n",
      "class_stronger_wins\n",
      "class_stronger_places\n",
      "first_up_starts\n",
      "first_up_wins\n",
      "first_up_places\n",
      "second_up_starts\n",
      "second_up_wins\n",
      "second_up_places\n",
      "track_distance_starts\n",
      "track_distance_wins\n",
      "track_distance_places\n"
     ]
    }
   ],
   "source": [
    "# Columns\n",
    "for col in df.columns:\n",
    "    print(col)"
   ]
  },
  {
   "cell_type": "code",
   "execution_count": 4,
   "id": "e3b9dc58",
   "metadata": {
    "execution": {
     "iopub.execute_input": "2023-01-09T15:29:59.934274Z",
     "iopub.status.busy": "2023-01-09T15:29:59.933396Z",
     "iopub.status.idle": "2023-01-09T15:30:01.275999Z",
     "shell.execute_reply": "2023-01-09T15:30:01.274951Z"
    },
    "papermill": {
     "duration": 1.349277,
     "end_time": "2023-01-09T15:30:01.278589",
     "exception": false,
     "start_time": "2023-01-09T15:29:59.929312",
     "status": "completed"
    },
    "tags": []
   },
   "outputs": [
    {
     "name": "stdout",
     "output_type": "stream",
     "text": [
      "Unique column - runner_id\n"
     ]
    }
   ],
   "source": [
    "# Finding dataset main key - runner_id\n",
    "for column in df.columns:\n",
    "    if df[column].nunique() == df[column].count():\n",
    "        print(f'Unique column - {column}')"
   ]
  },
  {
   "cell_type": "code",
   "execution_count": 5,
   "id": "844d9e68",
   "metadata": {
    "execution": {
     "iopub.execute_input": "2023-01-09T15:30:01.287239Z",
     "iopub.status.busy": "2023-01-09T15:30:01.286090Z",
     "iopub.status.idle": "2023-01-09T15:30:01.312875Z",
     "shell.execute_reply": "2023-01-09T15:30:01.311674Z"
    },
    "papermill": {
     "duration": 0.033725,
     "end_time": "2023-01-09T15:30:01.315617",
     "exception": false,
     "start_time": "2023-01-09T15:30:01.281892",
     "status": "completed"
    },
    "tags": []
   },
   "outputs": [
    {
     "data": {
      "text/plain": [
       "count    214148.000000\n",
       "mean          2.083064\n",
       "std           2.449549\n",
       "min           0.000000\n",
       "25%           0.000000\n",
       "50%           1.000000\n",
       "75%           3.000000\n",
       "max          36.000000\n",
       "Name: overall_wins, dtype: float64"
      ]
     },
     "execution_count": 5,
     "metadata": {},
     "output_type": "execute_result"
    }
   ],
   "source": [
    "df['overall_wins'].describe()"
   ]
  },
  {
   "cell_type": "code",
   "execution_count": 6,
   "id": "e1988594",
   "metadata": {
    "execution": {
     "iopub.execute_input": "2023-01-09T15:30:01.323999Z",
     "iopub.status.busy": "2023-01-09T15:30:01.323629Z",
     "iopub.status.idle": "2023-01-09T15:30:01.328350Z",
     "shell.execute_reply": "2023-01-09T15:30:01.326956Z"
    },
    "papermill": {
     "duration": 0.011573,
     "end_time": "2023-01-09T15:30:01.330734",
     "exception": false,
     "start_time": "2023-01-09T15:30:01.319161",
     "status": "completed"
    },
    "tags": []
   },
   "outputs": [],
   "source": [
    "# Dropping all columns except 3\n",
    "# date is a unique value\n",
    "# overall_places is \n",
    "\n",
    "# keep = ['date','overall_places','colour']\n",
    "# for col in df.columns:\n",
    "#     if col not in keep:\n",
    "#         df.drop(col, inplace=True, axis=1)"
   ]
  },
  {
   "cell_type": "code",
   "execution_count": 7,
   "id": "be936e94",
   "metadata": {
    "execution": {
     "iopub.execute_input": "2023-01-09T15:30:01.339622Z",
     "iopub.status.busy": "2023-01-09T15:30:01.339239Z",
     "iopub.status.idle": "2023-01-09T15:30:02.269774Z",
     "shell.execute_reply": "2023-01-09T15:30:02.268643Z"
    },
    "papermill": {
     "duration": 0.937731,
     "end_time": "2023-01-09T15:30:02.272084",
     "exception": false,
     "start_time": "2023-01-09T15:30:01.334353",
     "status": "completed"
    },
    "tags": []
   },
   "outputs": [
    {
     "data": {
      "text/html": [
       "<div>\n",
       "<style scoped>\n",
       "    .dataframe tbody tr th:only-of-type {\n",
       "        vertical-align: middle;\n",
       "    }\n",
       "\n",
       "    .dataframe tbody tr th {\n",
       "        vertical-align: top;\n",
       "    }\n",
       "\n",
       "    .dataframe thead th {\n",
       "        text-align: right;\n",
       "    }\n",
       "</style>\n",
       "<table border=\"1\" class=\"dataframe\">\n",
       "  <thead>\n",
       "    <tr style=\"text-align: right;\">\n",
       "      <th></th>\n",
       "      <th>previous_margin</th>\n",
       "      <th>position</th>\n",
       "      <th>position_again</th>\n",
       "      <th>position_two</th>\n",
       "      <th>margin</th>\n",
       "      <th>bf_odds</th>\n",
       "      <th>bf_odds_two_mins_out</th>\n",
       "      <th>vic_tote</th>\n",
       "      <th>vic_tote_two_mins_out</th>\n",
       "      <th>nsw_tote</th>\n",
       "      <th>...</th>\n",
       "      <th>class_stronger_places</th>\n",
       "      <th>first_up_starts</th>\n",
       "      <th>first_up_wins</th>\n",
       "      <th>first_up_places</th>\n",
       "      <th>second_up_starts</th>\n",
       "      <th>second_up_wins</th>\n",
       "      <th>second_up_places</th>\n",
       "      <th>track_distance_starts</th>\n",
       "      <th>track_distance_wins</th>\n",
       "      <th>track_distance_places</th>\n",
       "    </tr>\n",
       "  </thead>\n",
       "  <tbody>\n",
       "    <tr>\n",
       "      <th>count</th>\n",
       "      <td>145290.000000</td>\n",
       "      <td>241198.000000</td>\n",
       "      <td>68984.000000</td>\n",
       "      <td>234513.000000</td>\n",
       "      <td>171092.000000</td>\n",
       "      <td>241198.000000</td>\n",
       "      <td>240997.000000</td>\n",
       "      <td>241198.000000</td>\n",
       "      <td>240997.000000</td>\n",
       "      <td>241198.000000</td>\n",
       "      <td>...</td>\n",
       "      <td>213803.000000</td>\n",
       "      <td>214148.000000</td>\n",
       "      <td>214148.000000</td>\n",
       "      <td>214148.000000</td>\n",
       "      <td>214076.000000</td>\n",
       "      <td>214076.000000</td>\n",
       "      <td>214076.000000</td>\n",
       "      <td>213649.000000</td>\n",
       "      <td>213649.000000</td>\n",
       "      <td>213649.000000</td>\n",
       "    </tr>\n",
       "    <tr>\n",
       "      <th>mean</th>\n",
       "      <td>4.820105</td>\n",
       "      <td>0.100656</td>\n",
       "      <td>1.945683</td>\n",
       "      <td>5.690981</td>\n",
       "      <td>4.962783</td>\n",
       "      <td>37.044911</td>\n",
       "      <td>31.173106</td>\n",
       "      <td>18.361101</td>\n",
       "      <td>16.966572</td>\n",
       "      <td>18.567087</td>\n",
       "      <td>...</td>\n",
       "      <td>0.802622</td>\n",
       "      <td>3.319611</td>\n",
       "      <td>0.382320</td>\n",
       "      <td>0.740693</td>\n",
       "      <td>2.798684</td>\n",
       "      <td>0.339865</td>\n",
       "      <td>0.667305</td>\n",
       "      <td>1.221115</td>\n",
       "      <td>0.200769</td>\n",
       "      <td>0.348862</td>\n",
       "    </tr>\n",
       "    <tr>\n",
       "      <th>std</th>\n",
       "      <td>5.545815</td>\n",
       "      <td>0.300873</td>\n",
       "      <td>0.806069</td>\n",
       "      <td>3.316466</td>\n",
       "      <td>5.720454</td>\n",
       "      <td>62.953861</td>\n",
       "      <td>47.954050</td>\n",
       "      <td>19.671723</td>\n",
       "      <td>17.296365</td>\n",
       "      <td>19.930597</td>\n",
       "      <td>...</td>\n",
       "      <td>1.928756</td>\n",
       "      <td>2.146200</td>\n",
       "      <td>0.671096</td>\n",
       "      <td>0.933681</td>\n",
       "      <td>2.091626</td>\n",
       "      <td>0.613947</td>\n",
       "      <td>0.880804</td>\n",
       "      <td>2.614447</td>\n",
       "      <td>0.617769</td>\n",
       "      <td>0.941683</td>\n",
       "    </tr>\n",
       "    <tr>\n",
       "      <th>min</th>\n",
       "      <td>0.000000</td>\n",
       "      <td>0.000000</td>\n",
       "      <td>1.000000</td>\n",
       "      <td>0.000000</td>\n",
       "      <td>0.000000</td>\n",
       "      <td>1.050000</td>\n",
       "      <td>1.060000</td>\n",
       "      <td>0.000000</td>\n",
       "      <td>0.000000</td>\n",
       "      <td>0.000000</td>\n",
       "      <td>...</td>\n",
       "      <td>0.000000</td>\n",
       "      <td>0.000000</td>\n",
       "      <td>0.000000</td>\n",
       "      <td>0.000000</td>\n",
       "      <td>0.000000</td>\n",
       "      <td>0.000000</td>\n",
       "      <td>0.000000</td>\n",
       "      <td>0.000000</td>\n",
       "      <td>0.000000</td>\n",
       "      <td>0.000000</td>\n",
       "    </tr>\n",
       "    <tr>\n",
       "      <th>25%</th>\n",
       "      <td>1.200000</td>\n",
       "      <td>0.000000</td>\n",
       "      <td>1.000000</td>\n",
       "      <td>3.000000</td>\n",
       "      <td>1.300000</td>\n",
       "      <td>7.000000</td>\n",
       "      <td>6.800000</td>\n",
       "      <td>6.300000</td>\n",
       "      <td>6.400000</td>\n",
       "      <td>6.200000</td>\n",
       "      <td>...</td>\n",
       "      <td>0.000000</td>\n",
       "      <td>2.000000</td>\n",
       "      <td>0.000000</td>\n",
       "      <td>0.000000</td>\n",
       "      <td>1.000000</td>\n",
       "      <td>0.000000</td>\n",
       "      <td>0.000000</td>\n",
       "      <td>0.000000</td>\n",
       "      <td>0.000000</td>\n",
       "      <td>0.000000</td>\n",
       "    </tr>\n",
       "    <tr>\n",
       "      <th>50%</th>\n",
       "      <td>3.600000</td>\n",
       "      <td>0.000000</td>\n",
       "      <td>2.000000</td>\n",
       "      <td>5.000000</td>\n",
       "      <td>3.700000</td>\n",
       "      <td>14.500000</td>\n",
       "      <td>14.000000</td>\n",
       "      <td>11.400000</td>\n",
       "      <td>11.100000</td>\n",
       "      <td>11.500000</td>\n",
       "      <td>...</td>\n",
       "      <td>0.000000</td>\n",
       "      <td>3.000000</td>\n",
       "      <td>0.000000</td>\n",
       "      <td>0.000000</td>\n",
       "      <td>2.000000</td>\n",
       "      <td>0.000000</td>\n",
       "      <td>0.000000</td>\n",
       "      <td>0.000000</td>\n",
       "      <td>0.000000</td>\n",
       "      <td>0.000000</td>\n",
       "    </tr>\n",
       "    <tr>\n",
       "      <th>75%</th>\n",
       "      <td>6.700000</td>\n",
       "      <td>0.000000</td>\n",
       "      <td>3.000000</td>\n",
       "      <td>8.000000</td>\n",
       "      <td>6.900000</td>\n",
       "      <td>36.000000</td>\n",
       "      <td>32.000000</td>\n",
       "      <td>22.400000</td>\n",
       "      <td>20.700000</td>\n",
       "      <td>23.000000</td>\n",
       "      <td>...</td>\n",
       "      <td>1.000000</td>\n",
       "      <td>5.000000</td>\n",
       "      <td>1.000000</td>\n",
       "      <td>1.000000</td>\n",
       "      <td>4.000000</td>\n",
       "      <td>1.000000</td>\n",
       "      <td>1.000000</td>\n",
       "      <td>1.000000</td>\n",
       "      <td>0.000000</td>\n",
       "      <td>0.000000</td>\n",
       "    </tr>\n",
       "    <tr>\n",
       "      <th>max</th>\n",
       "      <td>99.900000</td>\n",
       "      <td>1.000000</td>\n",
       "      <td>5.000000</td>\n",
       "      <td>23.000000</td>\n",
       "      <td>99.900000</td>\n",
       "      <td>1000.000000</td>\n",
       "      <td>1000.000000</td>\n",
       "      <td>336.100000</td>\n",
       "      <td>301.800000</td>\n",
       "      <td>286.000000</td>\n",
       "      <td>...</td>\n",
       "      <td>28.000000</td>\n",
       "      <td>16.000000</td>\n",
       "      <td>10.000000</td>\n",
       "      <td>8.000000</td>\n",
       "      <td>15.000000</td>\n",
       "      <td>9.000000</td>\n",
       "      <td>7.000000</td>\n",
       "      <td>66.000000</td>\n",
       "      <td>15.000000</td>\n",
       "      <td>23.000000</td>\n",
       "    </tr>\n",
       "  </tbody>\n",
       "</table>\n",
       "<p>8 rows × 74 columns</p>\n",
       "</div>"
      ],
      "text/plain": [
       "       previous_margin       position  position_again   position_two  \\\n",
       "count    145290.000000  241198.000000    68984.000000  234513.000000   \n",
       "mean          4.820105       0.100656        1.945683       5.690981   \n",
       "std           5.545815       0.300873        0.806069       3.316466   \n",
       "min           0.000000       0.000000        1.000000       0.000000   \n",
       "25%           1.200000       0.000000        1.000000       3.000000   \n",
       "50%           3.600000       0.000000        2.000000       5.000000   \n",
       "75%           6.700000       0.000000        3.000000       8.000000   \n",
       "max          99.900000       1.000000        5.000000      23.000000   \n",
       "\n",
       "              margin        bf_odds  bf_odds_two_mins_out       vic_tote  \\\n",
       "count  171092.000000  241198.000000         240997.000000  241198.000000   \n",
       "mean        4.962783      37.044911             31.173106      18.361101   \n",
       "std         5.720454      62.953861             47.954050      19.671723   \n",
       "min         0.000000       1.050000              1.060000       0.000000   \n",
       "25%         1.300000       7.000000              6.800000       6.300000   \n",
       "50%         3.700000      14.500000             14.000000      11.400000   \n",
       "75%         6.900000      36.000000             32.000000      22.400000   \n",
       "max        99.900000    1000.000000           1000.000000     336.100000   \n",
       "\n",
       "       vic_tote_two_mins_out       nsw_tote  ...  class_stronger_places  \\\n",
       "count          240997.000000  241198.000000  ...          213803.000000   \n",
       "mean               16.966572      18.567087  ...               0.802622   \n",
       "std                17.296365      19.930597  ...               1.928756   \n",
       "min                 0.000000       0.000000  ...               0.000000   \n",
       "25%                 6.400000       6.200000  ...               0.000000   \n",
       "50%                11.100000      11.500000  ...               0.000000   \n",
       "75%                20.700000      23.000000  ...               1.000000   \n",
       "max               301.800000     286.000000  ...              28.000000   \n",
       "\n",
       "       first_up_starts  first_up_wins  first_up_places  second_up_starts  \\\n",
       "count    214148.000000  214148.000000    214148.000000     214076.000000   \n",
       "mean          3.319611       0.382320         0.740693          2.798684   \n",
       "std           2.146200       0.671096         0.933681          2.091626   \n",
       "min           0.000000       0.000000         0.000000          0.000000   \n",
       "25%           2.000000       0.000000         0.000000          1.000000   \n",
       "50%           3.000000       0.000000         0.000000          2.000000   \n",
       "75%           5.000000       1.000000         1.000000          4.000000   \n",
       "max          16.000000      10.000000         8.000000         15.000000   \n",
       "\n",
       "       second_up_wins  second_up_places  track_distance_starts  \\\n",
       "count   214076.000000     214076.000000          213649.000000   \n",
       "mean         0.339865          0.667305               1.221115   \n",
       "std          0.613947          0.880804               2.614447   \n",
       "min          0.000000          0.000000               0.000000   \n",
       "25%          0.000000          0.000000               0.000000   \n",
       "50%          0.000000          0.000000               0.000000   \n",
       "75%          1.000000          1.000000               1.000000   \n",
       "max          9.000000          7.000000              66.000000   \n",
       "\n",
       "       track_distance_wins  track_distance_places  \n",
       "count        213649.000000          213649.000000  \n",
       "mean              0.200769               0.348862  \n",
       "std               0.617769               0.941683  \n",
       "min               0.000000               0.000000  \n",
       "25%               0.000000               0.000000  \n",
       "50%               0.000000               0.000000  \n",
       "75%               0.000000               0.000000  \n",
       "max              15.000000              23.000000  \n",
       "\n",
       "[8 rows x 74 columns]"
      ]
     },
     "execution_count": 7,
     "metadata": {},
     "output_type": "execute_result"
    }
   ],
   "source": [
    "df.describe()"
   ]
  },
  {
   "cell_type": "code",
   "execution_count": 8,
   "id": "54598e2b",
   "metadata": {
    "execution": {
     "iopub.execute_input": "2023-01-09T15:30:02.281926Z",
     "iopub.status.busy": "2023-01-09T15:30:02.280925Z",
     "iopub.status.idle": "2023-01-09T15:30:02.772271Z",
     "shell.execute_reply": "2023-01-09T15:30:02.770769Z"
    },
    "papermill": {
     "duration": 0.500183,
     "end_time": "2023-01-09T15:30:02.776177",
     "exception": false,
     "start_time": "2023-01-09T15:30:02.275994",
     "status": "completed"
    },
    "tags": []
   },
   "outputs": [
    {
     "name": "stdout",
     "output_type": "stream",
     "text": [
      "B\n",
      "B/BR\n",
      "BL\n",
      "BR\n",
      "BR/BL\n",
      "CH\n",
      "GR\n",
      "GR/B\n",
      "GR/BL\n",
      "GR/BR\n",
      "GR/CH\n",
      "WH\n",
      "0         B\n",
      "1      B/BR\n",
      "2          \n",
      "3        BR\n",
      "4     BR/BL\n",
      "5        CH\n",
      "6        GR\n",
      "7          \n",
      "8          \n",
      "9          \n",
      "10         \n",
      "11         \n",
      "Name: colour, dtype: object\n"
     ]
    },
    {
     "name": "stderr",
     "output_type": "stream",
     "text": [
      "/opt/conda/lib/python3.7/site-packages/ipykernel_launcher.py:18: SettingWithCopyWarning: \n",
      "A value is trying to be set on a copy of a slice from a DataFrame\n",
      "\n",
      "See the caveats in the documentation: https://pandas.pydata.org/pandas-docs/stable/user_guide/indexing.html#returning-a-view-versus-a-copy\n"
     ]
    },
    {
     "data": {
      "image/png": "[encoded data removed]",
      "text/plain": [
       "<Figure size 720x720 with 1 Axes>"
      ]
     },
     "metadata": {},
     "output_type": "display_data"
    }
   ],
   "source": [
    "# df[['overall_places','colour']]\n",
    "#sns.barplot(data=df, x='overall_places', hue='colour')\n",
    "# sns.displot(data=df, x=\"overall_places\", hue=\"colour\")\n",
    "\n",
    "sumdf = df.groupby(\"colour\", as_index = False).sum()\n",
    "#print(sumdf)\n",
    "labels = sumdf['colour']\n",
    "\n",
    "# for label in labels:\n",
    "#     print((sumdf.loc[sumdf['colour'] == label])['overall_wins'])\n",
    "total = sumdf['overall_wins'].sum()\n",
    "s= 0 \n",
    "for i in range(len(labels)):\n",
    "    print(labels[i])\n",
    "    count = (sumdf.loc[sumdf['colour'] == labels[i]])['overall_wins']\n",
    "    percentage = int(count / total * 100)\n",
    "    if percentage < 1:\n",
    "        labels[i] = ''\n",
    "print(labels)\n",
    "def my_fmt(x):\n",
    "    if x > 1: return '{:.1f}%'.format(x)\n",
    "    else: return \"\"\n",
    "\n",
    "#print(total)\n",
    "\n",
    "#print(labels)\n",
    "colors = sns.color_palette('pastel')[0:5]\n",
    "fig, ax = plt.subplots(figsize=(10,10))\n",
    "plt.pie(sumdf['overall_wins'], colors = colors, labels=labels, autopct=my_fmt , pctdistance=0.9, labeldistance=1.2)\n",
    "\n",
    "plt.setp(ax.get_xticklabels(), rotation=30, horizontalalignment='right', fontsize='x-small')\n",
    "\n",
    "plt.show()\n"
   ]
  },
  {
   "cell_type": "code",
   "execution_count": 9,
   "id": "bf4428dd",
   "metadata": {
    "execution": {
     "iopub.execute_input": "2023-01-09T15:30:02.802667Z",
     "iopub.status.busy": "2023-01-09T15:30:02.800813Z",
     "iopub.status.idle": "2023-01-09T15:30:02.810842Z",
     "shell.execute_reply": "2023-01-09T15:30:02.808606Z"
    },
    "papermill": {
     "duration": 0.028241,
     "end_time": "2023-01-09T15:30:02.815552",
     "exception": false,
     "start_time": "2023-01-09T15:30:02.787311",
     "status": "completed"
    },
    "tags": []
   },
   "outputs": [
    {
     "name": "stdout",
     "output_type": "stream",
     "text": [
      "[]\n"
     ]
    }
   ],
   "source": [
    "print(ax.get_xticklabels())\n"
   ]
  },
  {
   "cell_type": "code",
   "execution_count": 10,
   "id": "4fed0f16",
   "metadata": {
    "execution": {
     "iopub.execute_input": "2023-01-09T15:30:02.832730Z",
     "iopub.status.busy": "2023-01-09T15:30:02.831880Z",
     "iopub.status.idle": "2023-01-09T15:30:03.346866Z",
     "shell.execute_reply": "2023-01-09T15:30:03.345395Z"
    },
    "papermill": {
     "duration": 0.525204,
     "end_time": "2023-01-09T15:30:03.350978",
     "exception": false,
     "start_time": "2023-01-09T15:30:02.825774",
     "status": "completed"
    },
    "tags": []
   },
   "outputs": [
    {
     "data": {
      "image/png": "[encoded data removed]",
      "text/plain": [
       "<Figure size 432x288 with 1 Axes>"
      ]
     },
     "metadata": {},
     "output_type": "display_data"
    }
   ],
   "source": [
    "colour_df = df.groupby(\"colour\", as_index = False).sum()\n",
    "labels = colour_df['colour']\n",
    "\n",
    "# Create the pie chart\n",
    "plt.pie(x=sumdf['overall_wins'], labels=labels)\n",
    "\n",
    "# Get the current axis\n",
    "ax = plt.gca()\n",
    "\n",
    "# Get the percentage values for each slice of the pie\n",
    "values = ax.pie(x=sumdf['overall_wins'], labels=labels, autopct='%1.1f%%')[2]\n",
    "\n",
    "# Iterate over the percentage values and only display those that are greater than or equal to 1%\n",
    "for value in values:\n",
    "    if float(value.get_text().strip('%')) < 1:\n",
    "        value.set_text('')\n",
    "\n",
    "# Show the plot\n",
    "plt.show()"
   ]
  }
 ],
 "metadata": {
  "kernelspec": {
   "display_name": "Python 3",
   "language": "python",
   "name": "python3"
  },
  "language_info": {
   "codemirror_mode": {
    "name": "ipython",
    "version": 3
   },
   "file_extension": ".py",
   "mimetype": "text/x-python",
   "name": "python",
   "nbconvert_exporter": "python",
   "pygments_lexer": "ipython3",
   "version": "3.7.12"
  },
  "papermill": {
   "default_parameters": {},
   "duration": 20.586729,
   "end_time": "2023-01-09T15:30:04.194884",
   "environment_variables": {},
   "exception": null,
   "input_path": "__notebook__.ipynb",
   "output_path": "__notebook__.ipynb",
   "parameters": {},
   "start_time": "2023-01-09T15:29:43.608155",
   "version": "2.3.4"
  }
 },
 "nbformat": 4,
 "nbformat_minor": 5
}
